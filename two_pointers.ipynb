{
  "nbformat": 4,
  "nbformat_minor": 0,
  "metadata": {
    "colab": {
      "provenance": [],
      "authorship_tag": "ABX9TyMwRZpEaOcMbYx4kqyKFrvH",
      "include_colab_link": true
    },
    "kernelspec": {
      "name": "python3",
      "display_name": "Python 3"
    },
    "language_info": {
      "name": "python"
    }
  },
  "cells": [
    {
      "cell_type": "markdown",
      "metadata": {
        "id": "view-in-github",
        "colab_type": "text"
      },
      "source": [
        "<a href=\"https://colab.research.google.com/github/boloftech/problem-solving/blob/main/two_pointers.ipynb\" target=\"_parent\"><img src=\"https://colab.research.google.com/assets/colab-badge.svg\" alt=\"Open In Colab\"/></a>"
      ]
    },
    {
      "cell_type": "code",
      "execution_count": 9,
      "metadata": {
        "id": "cfIEBMPqW6BL"
      },
      "outputs": [],
      "source": [
        "from typing import List\n",
        "def containsDuplicate1(nums:List[int])-> bool:\n",
        "  #[1,1,2] = TRUE. #[1,2,3]= False\n",
        "  return len(set(nums)) != len(nums)"
      ]
    },
    {
      "cell_type": "code",
      "source": [
        "containsDuplicate1([1,3,2])"
      ],
      "metadata": {
        "id": "5_o-7hQAmlSp",
        "outputId": "04453c9a-4984-4a52-97d2-1fda04ec142c",
        "colab": {
          "base_uri": "https://localhost:8080/"
        }
      },
      "execution_count": 10,
      "outputs": [
        {
          "output_type": "execute_result",
          "data": {
            "text/plain": [
              "False"
            ]
          },
          "metadata": {},
          "execution_count": 10
        }
      ]
    },
    {
      "cell_type": "code",
      "source": [
        "from re import T\n",
        "from typing import List\n",
        "def containsDuplicate2(nums:List[int])-> bool:\n",
        "  #[1,1,2] = TRUE. #[1,2,3]= False\n",
        "  solution = set()\n",
        "\n",
        "  for num in nums:\n",
        "    if num in solution:\n",
        "      return True\n",
        "    else:\n",
        "      solution.add(num)\n",
        "  return False"
      ],
      "metadata": {
        "id": "27bivdO2nM7F"
      },
      "execution_count": 11,
      "outputs": []
    },
    {
      "cell_type": "code",
      "source": [
        "containsDuplicate2([1,1,2,2])"
      ],
      "metadata": {
        "id": "dTwdgI7rnvWE",
        "outputId": "b10b4b3f-94ba-4208-9964-f05dee0c177f",
        "colab": {
          "base_uri": "https://localhost:8080/"
        }
      },
      "execution_count": 14,
      "outputs": [
        {
          "output_type": "execute_result",
          "data": {
            "text/plain": [
              "True"
            ]
          },
          "metadata": {},
          "execution_count": 14
        }
      ]
    },
    {
      "cell_type": "code",
      "source": [
        "def isAnagram(s1:str,s2:str)->bool:\n",
        "  s1 = \"\".join(sorted(s1))\n",
        "  s2 = \"\".join(sorted(s2))\n",
        "\n",
        "  print(s1)\n",
        "  print(s2)\n",
        "  return s1 == s2"
      ],
      "metadata": {
        "id": "IFeJX1RSoGFz"
      },
      "execution_count": 18,
      "outputs": []
    },
    {
      "cell_type": "code",
      "source": [
        "isAnagram(\"rat\",\"car\")"
      ],
      "metadata": {
        "id": "qL_wBUHho5Pw",
        "outputId": "6684233f-f8d2-4d14-8d0c-654cdc26d1d9",
        "colab": {
          "base_uri": "https://localhost:8080/"
        }
      },
      "execution_count": 21,
      "outputs": [
        {
          "output_type": "stream",
          "name": "stdout",
          "text": [
            "art\n",
            "acr\n"
          ]
        },
        {
          "output_type": "execute_result",
          "data": {
            "text/plain": [
              "False"
            ]
          },
          "metadata": {},
          "execution_count": 21
        }
      ]
    },
    {
      "cell_type": "code",
      "source": [
        "def twoSum(nums:List[int],target:int)->List[int]:\n",
        "  nums.sort()\n",
        "\n",
        "  dic = {}\n",
        "  result = []\n",
        "  for i in range(len(nums)):\n",
        "    temp = target-nums[i]\n",
        "\n",
        "    if temp in dic:\n",
        "      result.append(i)\n",
        "      result.append(dic[temp])\n",
        "    else:\n",
        "      dic[nums[i]] = i\n",
        "\n",
        "  return result\n"
      ],
      "metadata": {
        "id": "QofwidEIpYyY"
      },
      "execution_count": 41,
      "outputs": []
    },
    {
      "cell_type": "code",
      "source": [
        "twoSum([2,7,11,15],9)"
      ],
      "metadata": {
        "id": "Dv0dTzpnqNBB",
        "outputId": "f031f36c-86b0-4e8c-fe62-04ea26e5e3e4",
        "colab": {
          "base_uri": "https://localhost:8080/"
        }
      },
      "execution_count": 42,
      "outputs": [
        {
          "output_type": "execute_result",
          "data": {
            "text/plain": [
              "[1, 0]"
            ]
          },
          "metadata": {},
          "execution_count": 42
        }
      ]
    },
    {
      "cell_type": "code",
      "source": [
        "from collections import defaultdict\n",
        "def group_anagrams(strs:List[str]):\n",
        "  #key - values\n",
        "  dic = defaultdict(list)\n",
        "  keys = set()\n",
        "  for item in strs:\n",
        "    key = \"\".join(sorted(item))\n",
        "    if key not in dic:\n",
        "      dic[key] = [item]\n",
        "    else:\n",
        "      dic[key].append(item)\n",
        "    #keys.add(\"\".join(sorted(item)))\n",
        "  return dic.values()\n",
        "\n",
        "\n"
      ],
      "metadata": {
        "id": "-q9e53rMyS9T"
      },
      "execution_count": 57,
      "outputs": []
    },
    {
      "cell_type": "code",
      "source": [
        "group_anagrams([\"eat\",\"tea\",\"tan\",\"ate\",\"nat\",\"bat\"])"
      ],
      "metadata": {
        "id": "ag7UEmOm1bFC",
        "outputId": "dc2c886b-33e3-46e0-f033-884948a489b3",
        "colab": {
          "base_uri": "https://localhost:8080/"
        }
      },
      "execution_count": 56,
      "outputs": [
        {
          "output_type": "execute_result",
          "data": {
            "text/plain": [
              "dict_values([['eat', 'tea', 'ate'], ['tan', 'nat'], ['bat']])"
            ]
          },
          "metadata": {},
          "execution_count": 56
        }
      ]
    }
  ]
}